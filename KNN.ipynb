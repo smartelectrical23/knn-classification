{
 "cells": [
  {
   "cell_type": "code",
   "execution_count": 19,
   "id": "1128e2af",
   "metadata": {},
   "outputs": [],
   "source": [
    "import pandas as pd\n",
    "df=pd.read_csv('data12.csv')"
   ]
  },
  {
   "cell_type": "code",
   "execution_count": 20,
   "id": "27c25660",
   "metadata": {},
   "outputs": [
    {
     "data": {
      "text/plain": [
       "(4806,)"
      ]
     },
     "execution_count": 20,
     "metadata": {},
     "output_type": "execute_result"
    }
   ],
   "source": [
    "#Extracting Independent and dependent Variable\n",
    "X = df.drop('a7',axis='columns')\n",
    "y = df.a7\n",
    "X.shape\n",
    "y.shape"
   ]
  },
  {
   "cell_type": "code",
   "execution_count": 30,
   "id": "151bfd33",
   "metadata": {},
   "outputs": [
    {
     "name": "stderr",
     "output_type": "stream",
     "text": [
      "C:\\Users\\KIIT\\anaconda3\\lib\\site-packages\\sklearn\\neighbors\\_classification.py:228: FutureWarning: Unlike other reduction functions (e.g. `skew`, `kurtosis`), the default behavior of `mode` typically preserves the axis it acts along. In SciPy 1.11.0, this behavior will change: the default value of `keepdims` will become False, the `axis` over which the statistic is taken will be eliminated, and the value None will no longer be accepted. Set `keepdims` to True or False to avoid this warning.\n",
      "  mode, _ = stats.mode(_y[neigh_ind, k], axis=1)\n"
     ]
    },
    {
     "data": {
      "text/plain": [
       "0.29534109816971715"
      ]
     },
     "execution_count": 30,
     "metadata": {},
     "output_type": "execute_result"
    }
   ],
   "source": [
    "from sklearn.model_selection import train_test_split\n",
    "X_train, X_test, y_train, y_test = train_test_split(X, y,test_size=0.25,random_state=42) \n",
    "#create knn clasifier\n",
    "from sklearn.neighbors import KNeighborsClassifier as KNN \n",
    "knn = KNN(n_neighbors = 20)\n",
    "knn.fit(X_train, y_train)\n",
    "knn.score(X_test,y_test)"
   ]
  },
  {
   "cell_type": "code",
   "execution_count": 17,
   "id": "de819b9e",
   "metadata": {},
   "outputs": [
    {
     "name": "stderr",
     "output_type": "stream",
     "text": [
      "C:\\Users\\KIIT\\anaconda3\\lib\\site-packages\\sklearn\\neighbors\\_classification.py:228: FutureWarning: Unlike other reduction functions (e.g. `skew`, `kurtosis`), the default behavior of `mode` typically preserves the axis it acts along. In SciPy 1.11.0, this behavior will change: the default value of `keepdims` will become False, the `axis` over which the statistic is taken will be eliminated, and the value None will no longer be accepted. Set `keepdims` to True or False to avoid this warning.\n",
      "  mode, _ = stats.mode(_y[neigh_ind, k], axis=1)\n"
     ]
    },
    {
     "data": {
      "text/plain": [
       "array([[ 30, 127,  13,   1,  16,   0,   0,  11,   0],\n",
       "       [ 64, 180,  12,   8,  13,   0,   0,  25,   0],\n",
       "       [ 36,  23,  18,   0,   9,   0,   0,   6,   0],\n",
       "       [  9,  80,   0,  13,   1,   0,   0,   2,   0],\n",
       "       [ 28, 115,   5,   3,  16,   0,   0,  13,   0],\n",
       "       [  0,   0,   5,   1,   1,  69,   1,   1,   2],\n",
       "       [  1,   0,   1,   0,   3,  14,   1,   1,   3],\n",
       "       [ 22, 139,  11,   5,  13,   0,   0,  20,   0],\n",
       "       [  0,   0,   0,   0,   0,   0,   0,   3,   8]], dtype=int64)"
      ]
     },
     "execution_count": 17,
     "metadata": {},
     "output_type": "execute_result"
    }
   ],
   "source": [
    "#Plot Confusion Matrix\n",
    "from sklearn.metrics import confusion_matrix\n",
    "y_pred = knn.predict(X_test)\n",
    "cm = confusion_matrix(y_test, y_pred)\n",
    "cm"
   ]
  },
  {
   "cell_type": "code",
   "execution_count": 18,
   "id": "57411a48",
   "metadata": {},
   "outputs": [
    {
     "name": "stdout",
     "output_type": "stream",
     "text": [
      "              precision    recall  f1-score   support\n",
      "\n",
      "          AB       0.16      0.15      0.15       198\n",
      "         ABC       0.27      0.60      0.37       302\n",
      "         ABG       0.28      0.20      0.23        92\n",
      "          AG       0.42      0.12      0.19       105\n",
      "          BG       0.22      0.09      0.13       180\n",
      "          CG       0.83      0.86      0.85        80\n",
      "         HIF       0.50      0.04      0.08        24\n",
      "        NHIF       0.24      0.10      0.14       210\n",
      "          PF       0.62      0.73      0.67        11\n",
      "\n",
      "    accuracy                           0.30      1202\n",
      "   macro avg       0.39      0.32      0.31      1202\n",
      "weighted avg       0.30      0.30      0.26      1202\n",
      "\n"
     ]
    }
   ],
   "source": [
    "#classification_report\n",
    "from sklearn.metrics import classification_report\n",
    "\n",
    "print(classification_report(y_test, y_pred))"
   ]
  },
  {
   "cell_type": "code",
   "execution_count": null,
   "id": "a475829e",
   "metadata": {},
   "outputs": [],
   "source": []
  }
 ],
 "metadata": {
  "kernelspec": {
   "display_name": "Python 3 (ipykernel)",
   "language": "python",
   "name": "python3"
  },
  "language_info": {
   "codemirror_mode": {
    "name": "ipython",
    "version": 3
   },
   "file_extension": ".py",
   "mimetype": "text/x-python",
   "name": "python",
   "nbconvert_exporter": "python",
   "pygments_lexer": "ipython3",
   "version": "3.9.13"
  }
 },
 "nbformat": 4,
 "nbformat_minor": 5
}
